{
 "cells": [
  {
   "cell_type": "code",
   "execution_count": null,
   "metadata": {},
   "outputs": [
    {
     "name": "stdout",
     "output_type": "stream",
     "text": [
      "ADF Statistic: -5.133958749970897\n",
      "p-value: 1.1974393191839909e-05\n",
      "Critical Values: {'1%': -3.60098336718852, '5%': -2.9351348158036012, '10%': -2.6059629803688282}\n"
     ]
    }
   ],
   "source": [
    "import pandas as pd\n",
    "from statsmodels.tsa.stattools import adfuller\n",
    "\n",
    "# Data setup\n",
    "data = {\n",
    "    \"Time\": [\n",
    "        \"2019.1\", \"2019.3\", \"2019.5\", \"2019.6\", \"2019.7\", \"2019.9\", \"2019.10\", \"2020.1\",\n",
    "        \"2020.3\", \"2020.4\", \"2020.6\", \"2020.7\", \"2020.9\", \"2020.11\", \"2020.12\", \"2021.1\",\n",
    "        \"2021.3\", \"2021.4\", \"2021.6\", \"2021.7\", \"2021.9\", \"2021.11\", \"2021.12\", \"2022.3\",\n",
    "        \"2022.5\", \"2022.6\", \"2022.7\", \"2022.9\", \"2022.11\", \"2022.12\", \"2023.2\", \"2023.3\",\n",
    "        \"2023.5\", \"2023.6\", \"2023.7\", \"2023.9\", \"2023.11\", \"2023.12\", \"2024.1\", \"2024.5\",\n",
    "        \"2024.6\", \"2024.7\"\n",
    "    ],\n",
    "    \"SI\": [\n",
    "        0.4, 0.09, 0.27, 0.09, -0.17, 0.17, 0.16, -0.23, 0.11, 0.09, 0.17, 0.5, 0.08, -0.17, -0.17,\n",
    "        0.38, -0.17, -0.33, -0.23, -0.38, -0.23, -0.07, 0.08, -0.09, -0.17, 0.09, 0.33, 0.27, -0.17,\n",
    "        -0.17, 0.09, 0.09, 0.09, 0.4, 0.09, 0.2, 0.2, -0.09, 0.2, -0.17, 0.2, 0.09\n",
    "    ]\n",
    "}\n",
    "df = pd.DataFrame(data)\n",
    "\n",
    "# Running the Augmented Dickey-Fuller test\n",
    "adf_test_result = adfuller(df['SI'])\n",
    "\n",
    "# Printing the results\n",
    "print(\"ADF Statistic:\", adf_test_result[0])\n",
    "print(\"p-value:\", adf_test_result[1])\n",
    "print(\"Critical Values:\", adf_test_result[4])"
   ]
  },
  {
   "cell_type": "code",
   "execution_count": null,
   "metadata": {},
   "outputs": [],
   "source": []
  }
 ],
 "metadata": {
  "kernelspec": {
   "display_name": "Python 3",
   "language": "python",
   "name": "python3"
  },
  "language_info": {
   "codemirror_mode": {
    "name": "ipython",
    "version": 3
   },
   "file_extension": ".py",
   "mimetype": "text/x-python",
   "name": "python",
   "nbconvert_exporter": "python",
   "pygments_lexer": "ipython3",
   "version": "3.12.3"
  }
 },
 "nbformat": 4,
 "nbformat_minor": 2
}
